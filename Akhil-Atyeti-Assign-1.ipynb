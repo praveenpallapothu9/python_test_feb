{
 "cells": [
  {
   "cell_type": "code",
   "execution_count": 47,
   "id": "3eb0b51e-e330-407e-9433-d53f5f429e57",
   "metadata": {},
   "outputs": [],
   "source": [
    "import os\n",
    "\n",
    "def read_csv(file_path):\n",
    "    \"\"\"Reads a CSV file and returns a list of dictionaries.\"\"\"\n",
    "    if not os.path.exists(file_path):\n",
    "        print(\"ERR001: File not found -\", file_path)\n",
    "        return []\n",
    "    \n",
    "    data = []\n",
    "    with open(file_path, 'r') as file:\n",
    "        lines = file.readlines()\n",
    "        if not lines:\n",
    "            print(\"ERR002: Invalid data format - Empty file\")\n",
    "            return []\n",
    "        \n",
    "        headers = lines[0].strip().split(',')\n",
    "        for line in lines[1:]:\n",
    "            values = line.strip().split(',')\n",
    "            if len(values) != len(headers):\n",
    "                print(\"ERR002: Invalid data format -\", line)\n",
    "                continue\n",
    "            data.append(dict(zip(headers, values)))\n",
    "    return data"
   ]
  },
  {
   "cell_type": "code",
   "execution_count": 48,
   "id": "dde5bed1-2ced-4497-9cb7-b15456f4c564",
   "metadata": {},
   "outputs": [],
   "source": [
    "def parse_float(value, default=0.0):\n",
    "    \"\"\"Converts a value to float safely.\"\"\"\n",
    "    try:\n",
    "        return float(value)\n",
    "    except ValueError:\n",
    "        return default\n",
    "\n",
    "def group_by_month(sensor_data):\n",
    "    \"\"\"Groups sensor data by sensor type and month.\"\"\"\n",
    "    grouped = {}\n",
    "    for entry in sensor_data:\n",
    "        sensor_type = entry['sensor_type']\n",
    "        date = entry['date'][:7]  # Extract YYYY-MM\n",
    "        value = parse_float(entry['value'])\n",
    "        \n",
    "        key = (sensor_type, date)\n",
    "        if key not in grouped:\n",
    "            grouped[key] = []\n",
    "        grouped[key].append(value)\n",
    "    return grouped"
   ]
  },
  {
   "cell_type": "code",
   "execution_count": 49,
   "id": "56b48900-b0b4-4759-b941-28e037402bfd",
   "metadata": {},
   "outputs": [],
   "source": [
    "def calculate_monthly_statistics(sensor_data):\n",
    "    \"\"\"Calculates average, max, and min values for each sensor type per month.\"\"\"\n",
    "    grouped = group_by_month(sensor_data)\n",
    "    stats = []\n",
    "    \n",
    "    for (sensor_type, month), values in grouped.items():\n",
    "        avg_value = sum(values) / len(values) if values else 0.0\n",
    "        max_value = max(values) if values else 0.0\n",
    "        min_value = min(values) if values else 0.0\n",
    "        stats.append(f\"{sensor_type},{month},{avg_value:.2f},{max_value:.2f},{min_value:.2f}\")\n",
    "    return stats\n"
   ]
  },
  {
   "cell_type": "code",
   "execution_count": 50,
   "id": "82d052ac-f080-495b-90f9-40f30bc1aa0b",
   "metadata": {},
   "outputs": [],
   "source": [
    "def identify_outliers(sensor_data, thresholds):\n",
    "    \"\"\"Identifies sensor values that exceed defined thresholds.\"\"\"\n",
    "    threshold_map = {t['sensor_type']: (parse_float(t['min_threshold']), parse_float(t['max_threshold'])) for t in thresholds}\n",
    "    outliers = []\n",
    "    \n",
    "    for entry in sensor_data:\n",
    "        sensor_type = entry['sensor_type']\n",
    "        value = parse_float(entry['value'])\n",
    "        min_thresh, max_thresh = threshold_map.get(sensor_type, (None, None))\n",
    "        \n",
    "        if min_thresh is not None and value < min_thresh:\n",
    "            outliers.append(f\"{entry['date']},{sensor_type},{value},{entry['unit']},{entry['location_id']},Min\")\n",
    "        elif max_thresh is not None and value > max_thresh:\n",
    "            outliers.append(f\"{entry['date']},{sensor_type},{value},{entry['unit']},{entry['location_id']},Max\")\n",
    "    return outliers"
   ]
  },
  {
   "cell_type": "code",
   "execution_count": 51,
   "id": "77b094b7-8d9b-4031-843b-6e74b886d24a",
   "metadata": {},
   "outputs": [],
   "source": [
    "def write_csv(file_path, headers, data):\n",
    "    \"\"\"Writes data to a CSV file.\"\"\"\n",
    "    with open(file_path, 'w') as file:\n",
    "        file.write(headers + '\\n')\n",
    "        for row in data:\n",
    "            file.write(row + '\\n')\n",
    "\n"
   ]
  },
  {
   "cell_type": "code",
   "execution_count": 52,
   "id": "ee6b9714-67d4-4790-a74c-81929b5072ef",
   "metadata": {},
   "outputs": [
    {
     "name": "stdout",
     "output_type": "stream",
     "text": [
      "Processing completed. Reports generated.\n"
     ]
    }
   ],
   "source": [
    "def main():\n",
    "    \"\"\"Main function to process sensor data.\"\"\"\n",
    "    sensor_data = read_csv(r'C:\\Users\\AkhilPokuri\\Downloads\\sensor_data.csv')\n",
    "    thresholds = read_csv(r'C:\\Users\\AkhilPokuri\\Downloads\\thresholds.csv')\n",
    "\n",
    "    if not sensor_data:\n",
    "        print(\"ERR003: Processing error - No sensor data available\")\n",
    "        return\n",
    "\n",
    "    monthly_stats = calculate_monthly_statistics(sensor_data)\n",
    "    outliers = identify_outliers(sensor_data, thresholds)\n",
    "\n",
    "    write_csv(r'C:\\Users\\AkhilPokuri\\Documents\\monthly_stats.csv', \n",
    "              \"sensor_type,month,avg_value,max_value,min_value\", monthly_stats)\n",
    "    \n",
    "    write_csv(r'C:\\Users\\AkhilPokuri\\Documents\\outliers.csv', \n",
    "              \"date,sensor_type,value,unit,location_id,threshold_exceeded\", outliers)\n",
    "\n",
    "    print(\"Processing completed. Reports generated.\")\n",
    "\n",
    "if __name__ == \"__main__\":\n",
    "    main()"
   ]
  },
  {
   "cell_type": "code",
   "execution_count": null,
   "id": "481f507f-3982-44b2-8121-d2f4cb03a037",
   "metadata": {},
   "outputs": [],
   "source": []
  },
  {
   "cell_type": "code",
   "execution_count": null,
   "id": "5b2f5ee4-ec09-4375-a5cd-7930afd9b918",
   "metadata": {},
   "outputs": [],
   "source": []
  },
  {
   "cell_type": "code",
   "execution_count": null,
   "id": "608d4592-2b29-4b33-8a01-c5c6f691c6da",
   "metadata": {},
   "outputs": [],
   "source": []
  },
  {
   "cell_type": "code",
   "execution_count": null,
   "id": "4039f226-9314-4e49-bcee-6347d5686b79",
   "metadata": {},
   "outputs": [],
   "source": []
  }
 ],
 "metadata": {
  "kernelspec": {
   "display_name": "Python 3 (ipykernel)",
   "language": "python",
   "name": "python3"
  },
  "language_info": {
   "codemirror_mode": {
    "name": "ipython",
    "version": 3
   },
   "file_extension": ".py",
   "mimetype": "text/x-python",
   "name": "python",
   "nbconvert_exporter": "python",
   "pygments_lexer": "ipython3",
   "version": "3.12.7"
  }
 },
 "nbformat": 4,
 "nbformat_minor": 5
}
